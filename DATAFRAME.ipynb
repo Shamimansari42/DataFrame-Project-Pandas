{
 "cells": [
  {
   "cell_type": "markdown",
   "metadata": {},
   "source": [
    "DataFrame Project Pandas:"
   ]
  },
  {
   "cell_type": "code",
   "execution_count": 49,
   "metadata": {},
   "outputs": [
    {
     "name": "stdout",
     "output_type": "stream",
     "text": [
      "You can enter the data\n",
      "Header\n",
      "['Surname', 'Lastname', 'Age']\n",
      "['Shamim', 'Ansari', '24']\n",
      "['Mohammed', 'Ansari', '50']\n",
      "Thanks for using it\n"
     ]
    }
   ],
   "source": [
    "#modules\n",
    "from csv import *\n",
    "import os\n",
    "\n",
    "\n",
    "#file path\n",
    "folderpath = input('enter folder path : ')\n",
    "folder_location = os.path.join(folderpath, 'DataFrameName.csv')\n",
    "\n",
    "#Header input\n",
    "user_header = list(input('Enter the header : ').split(','))\n",
    "\n",
    "#file create and write\n",
    "with open(folder_location, 'w', newline='') as fw:\n",
    "    file_header = DictWriter(fw,fieldnames=user_header)\n",
    "    file_header.writeheader()   \n",
    "    print(f'You can enter the data\\nHeader\\n{user_header}')       \n",
    "    while True : #loop for taking input data\n",
    "        user_data = input(r\"Enter the data (For Quite press 'q') : \") #you can enter number of data, if you want to quite press 'q'.\n",
    "        if user_data.lower() != 'q': #if quite is not True\n",
    "            file_wd_ls = list(user_data.split(','))\n",
    "            if len(list(user_data.split(','))) <= len(user_header):  \n",
    "                file_write = writer(fw)\n",
    "                file_write.writerow(list(user_data.split(',')))\n",
    "                print(list(user_data.split(',')))\n",
    "            else: #number of header is greater than number of data it will throw note\n",
    "                print(f'Data can not be more than {len(file_wd_ls)}')\n",
    "                continue\n",
    "        else:\n",
    "            print('Thanks for using it')\n",
    "            break\n",
    "\n"
   ]
  }
 ],
 "metadata": {
  "kernelspec": {
   "display_name": "Python 3.10.7 64-bit",
   "language": "python",
   "name": "python3"
  },
  "language_info": {
   "codemirror_mode": {
    "name": "ipython",
    "version": 3
   },
   "file_extension": ".py",
   "mimetype": "text/x-python",
   "name": "python",
   "nbconvert_exporter": "python",
   "pygments_lexer": "ipython3",
   "version": "3.10.7"
  },
  "orig_nbformat": 4,
  "vscode": {
   "interpreter": {
    "hash": "e24423cf55a97bb551cc9ed3bf46a97ee55dc41934e2992773059d27dd1fa7f3"
   }
  }
 },
 "nbformat": 4,
 "nbformat_minor": 2
}
